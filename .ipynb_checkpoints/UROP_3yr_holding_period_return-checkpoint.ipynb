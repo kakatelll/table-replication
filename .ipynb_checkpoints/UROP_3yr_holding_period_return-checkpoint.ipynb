{
 "cells": [
  {
   "cell_type": "code",
   "execution_count": 1,
   "metadata": {},
   "outputs": [],
   "source": [
    "import pandas as pd\n",
    "import numpy as np"
   ]
  },
  {
   "cell_type": "code",
   "execution_count": 2,
   "metadata": {},
   "outputs": [],
   "source": [
    "df = pd.read_csv('bloomberg_full_data copy.csv')"
   ]
  },
  {
   "cell_type": "code",
   "execution_count": 3,
   "metadata": {},
   "outputs": [],
   "source": [
    "stock_code = list(df['STOCK_CODE'].unique())"
   ]
  },
  {
   "cell_type": "code",
   "execution_count": 4,
   "metadata": {},
   "outputs": [
    {
     "data": {
      "text/html": [
       "<div>\n",
       "<style scoped>\n",
       "    .dataframe tbody tr th:only-of-type {\n",
       "        vertical-align: middle;\n",
       "    }\n",
       "\n",
       "    .dataframe tbody tr th {\n",
       "        vertical-align: top;\n",
       "    }\n",
       "\n",
       "    .dataframe thead th {\n",
       "        text-align: right;\n",
       "    }\n",
       "</style>\n",
       "<table border=\"1\" class=\"dataframe\">\n",
       "  <thead>\n",
       "    <tr style=\"text-align: right;\">\n",
       "      <th></th>\n",
       "      <th>Unnamed: 0</th>\n",
       "      <th>STOCK_CODE</th>\n",
       "      <th>DATE</th>\n",
       "      <th>PE_RATIO</th>\n",
       "      <th>PX_TO_BOOK_RATIO</th>\n",
       "      <th>EQY_FLOAT</th>\n",
       "      <th>BLOOMBERG_CLOSE_PRICE</th>\n",
       "      <th>PX_HIGH</th>\n",
       "      <th>PX_LOW</th>\n",
       "      <th>PX_OPEN</th>\n",
       "      <th>PX_VOLUME</th>\n",
       "      <th>CUR_MKT_CAP</th>\n",
       "    </tr>\n",
       "  </thead>\n",
       "  <tbody>\n",
       "    <tr>\n",
       "      <th>0</th>\n",
       "      <td>0</td>\n",
       "      <td>1353</td>\n",
       "      <td>2020-07-01</td>\n",
       "      <td>1.2055</td>\n",
       "      <td>48.1997</td>\n",
       "      <td>60.582</td>\n",
       "      <td>1.0</td>\n",
       "      <td>1.0</td>\n",
       "      <td>1.0</td>\n",
       "      <td>1.0</td>\n",
       "      <td>86052000.0</td>\n",
       "      <td>610.794</td>\n",
       "    </tr>\n",
       "    <tr>\n",
       "      <th>1</th>\n",
       "      <td>1</td>\n",
       "      <td>1353</td>\n",
       "      <td>2020-06-30</td>\n",
       "      <td>1.2055</td>\n",
       "      <td>48.1997</td>\n",
       "      <td>60.582</td>\n",
       "      <td>1.0</td>\n",
       "      <td>1.0</td>\n",
       "      <td>1.0</td>\n",
       "      <td>1.0</td>\n",
       "      <td>86052000.0</td>\n",
       "      <td>610.794</td>\n",
       "    </tr>\n",
       "    <tr>\n",
       "      <th>2</th>\n",
       "      <td>2</td>\n",
       "      <td>1353</td>\n",
       "      <td>2020-06-29</td>\n",
       "      <td>1.2055</td>\n",
       "      <td>48.3068</td>\n",
       "      <td>60.582</td>\n",
       "      <td>1.0</td>\n",
       "      <td>1.0</td>\n",
       "      <td>1.0</td>\n",
       "      <td>1.0</td>\n",
       "      <td>86052000.0</td>\n",
       "      <td>610.794</td>\n",
       "    </tr>\n",
       "    <tr>\n",
       "      <th>3</th>\n",
       "      <td>3</td>\n",
       "      <td>1353</td>\n",
       "      <td>2020-06-26</td>\n",
       "      <td>1.2055</td>\n",
       "      <td>48.2883</td>\n",
       "      <td>60.582</td>\n",
       "      <td>1.0</td>\n",
       "      <td>1.0</td>\n",
       "      <td>1.0</td>\n",
       "      <td>1.0</td>\n",
       "      <td>86052000.0</td>\n",
       "      <td>610.794</td>\n",
       "    </tr>\n",
       "    <tr>\n",
       "      <th>4</th>\n",
       "      <td>4</td>\n",
       "      <td>1353</td>\n",
       "      <td>2020-06-25</td>\n",
       "      <td>1.2055</td>\n",
       "      <td>48.2877</td>\n",
       "      <td>60.582</td>\n",
       "      <td>1.0</td>\n",
       "      <td>1.0</td>\n",
       "      <td>1.0</td>\n",
       "      <td>1.0</td>\n",
       "      <td>86052000.0</td>\n",
       "      <td>610.794</td>\n",
       "    </tr>\n",
       "    <tr>\n",
       "      <th>...</th>\n",
       "      <td>...</td>\n",
       "      <td>...</td>\n",
       "      <td>...</td>\n",
       "      <td>...</td>\n",
       "      <td>...</td>\n",
       "      <td>...</td>\n",
       "      <td>...</td>\n",
       "      <td>...</td>\n",
       "      <td>...</td>\n",
       "      <td>...</td>\n",
       "      <td>...</td>\n",
       "      <td>...</td>\n",
       "    </tr>\n",
       "    <tr>\n",
       "      <th>1026075</th>\n",
       "      <td>1026075</td>\n",
       "      <td>1542</td>\n",
       "      <td>2014-01-07</td>\n",
       "      <td>NaN</td>\n",
       "      <td>NaN</td>\n",
       "      <td>NaN</td>\n",
       "      <td>NaN</td>\n",
       "      <td>NaN</td>\n",
       "      <td>NaN</td>\n",
       "      <td>NaN</td>\n",
       "      <td>NaN</td>\n",
       "      <td>NaN</td>\n",
       "    </tr>\n",
       "    <tr>\n",
       "      <th>1026076</th>\n",
       "      <td>1026076</td>\n",
       "      <td>1542</td>\n",
       "      <td>2014-01-06</td>\n",
       "      <td>NaN</td>\n",
       "      <td>NaN</td>\n",
       "      <td>NaN</td>\n",
       "      <td>NaN</td>\n",
       "      <td>NaN</td>\n",
       "      <td>NaN</td>\n",
       "      <td>NaN</td>\n",
       "      <td>NaN</td>\n",
       "      <td>NaN</td>\n",
       "    </tr>\n",
       "    <tr>\n",
       "      <th>1026077</th>\n",
       "      <td>1026077</td>\n",
       "      <td>1542</td>\n",
       "      <td>2014-01-03</td>\n",
       "      <td>NaN</td>\n",
       "      <td>NaN</td>\n",
       "      <td>NaN</td>\n",
       "      <td>NaN</td>\n",
       "      <td>NaN</td>\n",
       "      <td>NaN</td>\n",
       "      <td>NaN</td>\n",
       "      <td>NaN</td>\n",
       "      <td>NaN</td>\n",
       "    </tr>\n",
       "    <tr>\n",
       "      <th>1026078</th>\n",
       "      <td>1026078</td>\n",
       "      <td>1542</td>\n",
       "      <td>2014-01-02</td>\n",
       "      <td>NaN</td>\n",
       "      <td>NaN</td>\n",
       "      <td>NaN</td>\n",
       "      <td>NaN</td>\n",
       "      <td>NaN</td>\n",
       "      <td>NaN</td>\n",
       "      <td>NaN</td>\n",
       "      <td>NaN</td>\n",
       "      <td>NaN</td>\n",
       "    </tr>\n",
       "    <tr>\n",
       "      <th>1026079</th>\n",
       "      <td>1026079</td>\n",
       "      <td>1542</td>\n",
       "      <td>2014-01-01</td>\n",
       "      <td>NaN</td>\n",
       "      <td>NaN</td>\n",
       "      <td>NaN</td>\n",
       "      <td>NaN</td>\n",
       "      <td>NaN</td>\n",
       "      <td>NaN</td>\n",
       "      <td>NaN</td>\n",
       "      <td>NaN</td>\n",
       "      <td>NaN</td>\n",
       "    </tr>\n",
       "  </tbody>\n",
       "</table>\n",
       "<p>1026080 rows × 12 columns</p>\n",
       "</div>"
      ],
      "text/plain": [
       "         Unnamed: 0  STOCK_CODE        DATE  PE_RATIO  PX_TO_BOOK_RATIO  \\\n",
       "0                 0        1353  2020-07-01    1.2055           48.1997   \n",
       "1                 1        1353  2020-06-30    1.2055           48.1997   \n",
       "2                 2        1353  2020-06-29    1.2055           48.3068   \n",
       "3                 3        1353  2020-06-26    1.2055           48.2883   \n",
       "4                 4        1353  2020-06-25    1.2055           48.2877   \n",
       "...             ...         ...         ...       ...               ...   \n",
       "1026075     1026075        1542  2014-01-07       NaN               NaN   \n",
       "1026076     1026076        1542  2014-01-06       NaN               NaN   \n",
       "1026077     1026077        1542  2014-01-03       NaN               NaN   \n",
       "1026078     1026078        1542  2014-01-02       NaN               NaN   \n",
       "1026079     1026079        1542  2014-01-01       NaN               NaN   \n",
       "\n",
       "         EQY_FLOAT  BLOOMBERG_CLOSE_PRICE  PX_HIGH  PX_LOW  PX_OPEN  \\\n",
       "0           60.582                    1.0      1.0     1.0      1.0   \n",
       "1           60.582                    1.0      1.0     1.0      1.0   \n",
       "2           60.582                    1.0      1.0     1.0      1.0   \n",
       "3           60.582                    1.0      1.0     1.0      1.0   \n",
       "4           60.582                    1.0      1.0     1.0      1.0   \n",
       "...            ...                    ...      ...     ...      ...   \n",
       "1026075        NaN                    NaN      NaN     NaN      NaN   \n",
       "1026076        NaN                    NaN      NaN     NaN      NaN   \n",
       "1026077        NaN                    NaN      NaN     NaN      NaN   \n",
       "1026078        NaN                    NaN      NaN     NaN      NaN   \n",
       "1026079        NaN                    NaN      NaN     NaN      NaN   \n",
       "\n",
       "          PX_VOLUME  CUR_MKT_CAP  \n",
       "0        86052000.0      610.794  \n",
       "1        86052000.0      610.794  \n",
       "2        86052000.0      610.794  \n",
       "3        86052000.0      610.794  \n",
       "4        86052000.0      610.794  \n",
       "...             ...          ...  \n",
       "1026075         NaN          NaN  \n",
       "1026076         NaN          NaN  \n",
       "1026077         NaN          NaN  \n",
       "1026078         NaN          NaN  \n",
       "1026079         NaN          NaN  \n",
       "\n",
       "[1026080 rows x 12 columns]"
      ]
     },
     "execution_count": 4,
     "metadata": {},
     "output_type": "execute_result"
    }
   ],
   "source": [
    "df"
   ]
  },
  {
   "cell_type": "code",
   "execution_count": 5,
   "metadata": {},
   "outputs": [],
   "source": [
    "temp_df = df[df['STOCK_CODE']==stock_code[0]].sort_values('DATE').dropna()"
   ]
  },
  {
   "cell_type": "code",
   "execution_count": 6,
   "metadata": {},
   "outputs": [],
   "source": [
    "df2 = pd.DataFrame()\n",
    "for stock in stock_code:\n",
    "    temp_df = df[df['STOCK_CODE']==stock].sort_values('DATE').dropna()\n",
    "    df3 = df2.append(temp_df)\n",
    "    df2 = df3"
   ]
  },
  {
   "cell_type": "code",
   "execution_count": 7,
   "metadata": {
    "scrolled": true
   },
   "outputs": [],
   "source": [
    "df2 = df2.drop(columns = ['Unnamed: 0','PE_RATIO','PX_TO_BOOK_RATIO','EQY_FLOAT','PX_HIGH','PX_LOW','PX_OPEN','PX_VOLUME'])"
   ]
  },
  {
   "cell_type": "code",
   "execution_count": 8,
   "metadata": {
    "scrolled": true
   },
   "outputs": [
    {
     "data": {
      "text/html": [
       "<div>\n",
       "<style scoped>\n",
       "    .dataframe tbody tr th:only-of-type {\n",
       "        vertical-align: middle;\n",
       "    }\n",
       "\n",
       "    .dataframe tbody tr th {\n",
       "        vertical-align: top;\n",
       "    }\n",
       "\n",
       "    .dataframe thead th {\n",
       "        text-align: right;\n",
       "    }\n",
       "</style>\n",
       "<table border=\"1\" class=\"dataframe\">\n",
       "  <thead>\n",
       "    <tr style=\"text-align: right;\">\n",
       "      <th></th>\n",
       "      <th>STOCK_CODE</th>\n",
       "      <th>DATE</th>\n",
       "      <th>BLOOMBERG_CLOSE_PRICE</th>\n",
       "      <th>CUR_MKT_CAP</th>\n",
       "    </tr>\n",
       "  </thead>\n",
       "  <tbody>\n",
       "    <tr>\n",
       "      <th>1240</th>\n",
       "      <td>1353</td>\n",
       "      <td>2015-09-30</td>\n",
       "      <td>1.00</td>\n",
       "      <td>610.794</td>\n",
       "    </tr>\n",
       "    <tr>\n",
       "      <th>1239</th>\n",
       "      <td>1353</td>\n",
       "      <td>2015-10-01</td>\n",
       "      <td>1.00</td>\n",
       "      <td>610.794</td>\n",
       "    </tr>\n",
       "    <tr>\n",
       "      <th>1238</th>\n",
       "      <td>1353</td>\n",
       "      <td>2015-10-02</td>\n",
       "      <td>1.00</td>\n",
       "      <td>610.794</td>\n",
       "    </tr>\n",
       "    <tr>\n",
       "      <th>1237</th>\n",
       "      <td>1353</td>\n",
       "      <td>2015-10-05</td>\n",
       "      <td>1.00</td>\n",
       "      <td>610.794</td>\n",
       "    </tr>\n",
       "    <tr>\n",
       "      <th>1236</th>\n",
       "      <td>1353</td>\n",
       "      <td>2015-10-06</td>\n",
       "      <td>1.00</td>\n",
       "      <td>610.794</td>\n",
       "    </tr>\n",
       "    <tr>\n",
       "      <th>...</th>\n",
       "      <td>...</td>\n",
       "      <td>...</td>\n",
       "      <td>...</td>\n",
       "      <td>...</td>\n",
       "    </tr>\n",
       "    <tr>\n",
       "      <th>1024388</th>\n",
       "      <td>1542</td>\n",
       "      <td>2020-06-25</td>\n",
       "      <td>3.81</td>\n",
       "      <td>762.000</td>\n",
       "    </tr>\n",
       "    <tr>\n",
       "      <th>1024387</th>\n",
       "      <td>1542</td>\n",
       "      <td>2020-06-26</td>\n",
       "      <td>3.85</td>\n",
       "      <td>770.000</td>\n",
       "    </tr>\n",
       "    <tr>\n",
       "      <th>1024386</th>\n",
       "      <td>1542</td>\n",
       "      <td>2020-06-29</td>\n",
       "      <td>3.80</td>\n",
       "      <td>760.000</td>\n",
       "    </tr>\n",
       "    <tr>\n",
       "      <th>1024385</th>\n",
       "      <td>1542</td>\n",
       "      <td>2020-06-30</td>\n",
       "      <td>3.80</td>\n",
       "      <td>760.000</td>\n",
       "    </tr>\n",
       "    <tr>\n",
       "      <th>1024384</th>\n",
       "      <td>1542</td>\n",
       "      <td>2020-07-01</td>\n",
       "      <td>3.80</td>\n",
       "      <td>760.000</td>\n",
       "    </tr>\n",
       "  </tbody>\n",
       "</table>\n",
       "<p>370106 rows × 4 columns</p>\n",
       "</div>"
      ],
      "text/plain": [
       "         STOCK_CODE        DATE  BLOOMBERG_CLOSE_PRICE  CUR_MKT_CAP\n",
       "1240           1353  2015-09-30                   1.00      610.794\n",
       "1239           1353  2015-10-01                   1.00      610.794\n",
       "1238           1353  2015-10-02                   1.00      610.794\n",
       "1237           1353  2015-10-05                   1.00      610.794\n",
       "1236           1353  2015-10-06                   1.00      610.794\n",
       "...             ...         ...                    ...          ...\n",
       "1024388        1542  2020-06-25                   3.81      762.000\n",
       "1024387        1542  2020-06-26                   3.85      770.000\n",
       "1024386        1542  2020-06-29                   3.80      760.000\n",
       "1024385        1542  2020-06-30                   3.80      760.000\n",
       "1024384        1542  2020-07-01                   3.80      760.000\n",
       "\n",
       "[370106 rows x 4 columns]"
      ]
     },
     "execution_count": 8,
     "metadata": {},
     "output_type": "execute_result"
    }
   ],
   "source": [
    "df2"
   ]
  },
  {
   "cell_type": "code",
   "execution_count": null,
   "metadata": {},
   "outputs": [],
   "source": []
  },
  {
   "cell_type": "code",
   "execution_count": 9,
   "metadata": {},
   "outputs": [
    {
     "data": {
      "text/html": [
       "<div>\n",
       "<style scoped>\n",
       "    .dataframe tbody tr th:only-of-type {\n",
       "        vertical-align: middle;\n",
       "    }\n",
       "\n",
       "    .dataframe tbody tr th {\n",
       "        vertical-align: top;\n",
       "    }\n",
       "\n",
       "    .dataframe thead th {\n",
       "        text-align: right;\n",
       "    }\n",
       "</style>\n",
       "<table border=\"1\" class=\"dataframe\">\n",
       "  <thead>\n",
       "    <tr style=\"text-align: right;\">\n",
       "      <th></th>\n",
       "      <th>STOCK_CODE</th>\n",
       "      <th>DATE</th>\n",
       "      <th>BLOOMBERG_CLOSE_PRICE</th>\n",
       "      <th>CUR_MKT_CAP</th>\n",
       "    </tr>\n",
       "  </thead>\n",
       "  <tbody>\n",
       "    <tr>\n",
       "      <th>1240</th>\n",
       "      <td>1353</td>\n",
       "      <td>2015-09-30</td>\n",
       "      <td>1.0</td>\n",
       "      <td>610.794</td>\n",
       "    </tr>\n",
       "    <tr>\n",
       "      <th>1239</th>\n",
       "      <td>1353</td>\n",
       "      <td>2015-10-01</td>\n",
       "      <td>1.0</td>\n",
       "      <td>610.794</td>\n",
       "    </tr>\n",
       "    <tr>\n",
       "      <th>1238</th>\n",
       "      <td>1353</td>\n",
       "      <td>2015-10-02</td>\n",
       "      <td>1.0</td>\n",
       "      <td>610.794</td>\n",
       "    </tr>\n",
       "    <tr>\n",
       "      <th>1237</th>\n",
       "      <td>1353</td>\n",
       "      <td>2015-10-05</td>\n",
       "      <td>1.0</td>\n",
       "      <td>610.794</td>\n",
       "    </tr>\n",
       "    <tr>\n",
       "      <th>1236</th>\n",
       "      <td>1353</td>\n",
       "      <td>2015-10-06</td>\n",
       "      <td>1.0</td>\n",
       "      <td>610.794</td>\n",
       "    </tr>\n",
       "    <tr>\n",
       "      <th>...</th>\n",
       "      <td>...</td>\n",
       "      <td>...</td>\n",
       "      <td>...</td>\n",
       "      <td>...</td>\n",
       "    </tr>\n",
       "    <tr>\n",
       "      <th>489</th>\n",
       "      <td>1353</td>\n",
       "      <td>2018-08-16</td>\n",
       "      <td>1.0</td>\n",
       "      <td>610.794</td>\n",
       "    </tr>\n",
       "    <tr>\n",
       "      <th>488</th>\n",
       "      <td>1353</td>\n",
       "      <td>2018-08-17</td>\n",
       "      <td>1.0</td>\n",
       "      <td>610.794</td>\n",
       "    </tr>\n",
       "    <tr>\n",
       "      <th>487</th>\n",
       "      <td>1353</td>\n",
       "      <td>2018-08-20</td>\n",
       "      <td>1.0</td>\n",
       "      <td>610.794</td>\n",
       "    </tr>\n",
       "    <tr>\n",
       "      <th>486</th>\n",
       "      <td>1353</td>\n",
       "      <td>2018-08-21</td>\n",
       "      <td>1.0</td>\n",
       "      <td>610.794</td>\n",
       "    </tr>\n",
       "    <tr>\n",
       "      <th>485</th>\n",
       "      <td>1353</td>\n",
       "      <td>2018-08-22</td>\n",
       "      <td>1.0</td>\n",
       "      <td>610.794</td>\n",
       "    </tr>\n",
       "  </tbody>\n",
       "</table>\n",
       "<p>756 rows × 4 columns</p>\n",
       "</div>"
      ],
      "text/plain": [
       "      STOCK_CODE        DATE  BLOOMBERG_CLOSE_PRICE  CUR_MKT_CAP\n",
       "1240        1353  2015-09-30                    1.0      610.794\n",
       "1239        1353  2015-10-01                    1.0      610.794\n",
       "1238        1353  2015-10-02                    1.0      610.794\n",
       "1237        1353  2015-10-05                    1.0      610.794\n",
       "1236        1353  2015-10-06                    1.0      610.794\n",
       "...          ...         ...                    ...          ...\n",
       "489         1353  2018-08-16                    1.0      610.794\n",
       "488         1353  2018-08-17                    1.0      610.794\n",
       "487         1353  2018-08-20                    1.0      610.794\n",
       "486         1353  2018-08-21                    1.0      610.794\n",
       "485         1353  2018-08-22                    1.0      610.794\n",
       "\n",
       "[756 rows x 4 columns]"
      ]
     },
     "execution_count": 9,
     "metadata": {},
     "output_type": "execute_result"
    }
   ],
   "source": [
    "df2[df2['STOCK_CODE']==stock_code[0]].iloc[:756]"
   ]
  },
  {
   "cell_type": "code",
   "execution_count": 10,
   "metadata": {
    "scrolled": true
   },
   "outputs": [
    {
     "data": {
      "text/html": [
       "<div>\n",
       "<style scoped>\n",
       "    .dataframe tbody tr th:only-of-type {\n",
       "        vertical-align: middle;\n",
       "    }\n",
       "\n",
       "    .dataframe tbody tr th {\n",
       "        vertical-align: top;\n",
       "    }\n",
       "\n",
       "    .dataframe thead th {\n",
       "        text-align: right;\n",
       "    }\n",
       "</style>\n",
       "<table border=\"1\" class=\"dataframe\">\n",
       "  <thead>\n",
       "    <tr style=\"text-align: right;\">\n",
       "      <th></th>\n",
       "      <th>STOCK_CODE</th>\n",
       "      <th>DATE</th>\n",
       "      <th>BLOOMBERG_CLOSE_PRICE</th>\n",
       "      <th>CUR_MKT_CAP</th>\n",
       "    </tr>\n",
       "  </thead>\n",
       "  <tbody>\n",
       "    <tr>\n",
       "      <th>1240</th>\n",
       "      <td>1353</td>\n",
       "      <td>2015-09-30</td>\n",
       "      <td>1.00</td>\n",
       "      <td>610.794</td>\n",
       "    </tr>\n",
       "    <tr>\n",
       "      <th>1239</th>\n",
       "      <td>1353</td>\n",
       "      <td>2015-10-01</td>\n",
       "      <td>1.00</td>\n",
       "      <td>610.794</td>\n",
       "    </tr>\n",
       "    <tr>\n",
       "      <th>1238</th>\n",
       "      <td>1353</td>\n",
       "      <td>2015-10-02</td>\n",
       "      <td>1.00</td>\n",
       "      <td>610.794</td>\n",
       "    </tr>\n",
       "    <tr>\n",
       "      <th>1237</th>\n",
       "      <td>1353</td>\n",
       "      <td>2015-10-05</td>\n",
       "      <td>1.00</td>\n",
       "      <td>610.794</td>\n",
       "    </tr>\n",
       "    <tr>\n",
       "      <th>1236</th>\n",
       "      <td>1353</td>\n",
       "      <td>2015-10-06</td>\n",
       "      <td>1.00</td>\n",
       "      <td>610.794</td>\n",
       "    </tr>\n",
       "    <tr>\n",
       "      <th>...</th>\n",
       "      <td>...</td>\n",
       "      <td>...</td>\n",
       "      <td>...</td>\n",
       "      <td>...</td>\n",
       "    </tr>\n",
       "    <tr>\n",
       "      <th>1024388</th>\n",
       "      <td>1542</td>\n",
       "      <td>2020-06-25</td>\n",
       "      <td>3.81</td>\n",
       "      <td>762.000</td>\n",
       "    </tr>\n",
       "    <tr>\n",
       "      <th>1024387</th>\n",
       "      <td>1542</td>\n",
       "      <td>2020-06-26</td>\n",
       "      <td>3.85</td>\n",
       "      <td>770.000</td>\n",
       "    </tr>\n",
       "    <tr>\n",
       "      <th>1024386</th>\n",
       "      <td>1542</td>\n",
       "      <td>2020-06-29</td>\n",
       "      <td>3.80</td>\n",
       "      <td>760.000</td>\n",
       "    </tr>\n",
       "    <tr>\n",
       "      <th>1024385</th>\n",
       "      <td>1542</td>\n",
       "      <td>2020-06-30</td>\n",
       "      <td>3.80</td>\n",
       "      <td>760.000</td>\n",
       "    </tr>\n",
       "    <tr>\n",
       "      <th>1024384</th>\n",
       "      <td>1542</td>\n",
       "      <td>2020-07-01</td>\n",
       "      <td>3.80</td>\n",
       "      <td>760.000</td>\n",
       "    </tr>\n",
       "  </tbody>\n",
       "</table>\n",
       "<p>370106 rows × 4 columns</p>\n",
       "</div>"
      ],
      "text/plain": [
       "         STOCK_CODE        DATE  BLOOMBERG_CLOSE_PRICE  CUR_MKT_CAP\n",
       "1240           1353  2015-09-30                   1.00      610.794\n",
       "1239           1353  2015-10-01                   1.00      610.794\n",
       "1238           1353  2015-10-02                   1.00      610.794\n",
       "1237           1353  2015-10-05                   1.00      610.794\n",
       "1236           1353  2015-10-06                   1.00      610.794\n",
       "...             ...         ...                    ...          ...\n",
       "1024388        1542  2020-06-25                   3.81      762.000\n",
       "1024387        1542  2020-06-26                   3.85      770.000\n",
       "1024386        1542  2020-06-29                   3.80      760.000\n",
       "1024385        1542  2020-06-30                   3.80      760.000\n",
       "1024384        1542  2020-07-01                   3.80      760.000\n",
       "\n",
       "[370106 rows x 4 columns]"
      ]
     },
     "execution_count": 10,
     "metadata": {},
     "output_type": "execute_result"
    }
   ],
   "source": [
    "df2"
   ]
  },
  {
   "cell_type": "code",
   "execution_count": 11,
   "metadata": {},
   "outputs": [],
   "source": [
    "df2['Daily Return'] = \"\""
   ]
  },
  {
   "cell_type": "code",
   "execution_count": 12,
   "metadata": {
    "scrolled": true
   },
   "outputs": [
    {
     "data": {
      "text/html": [
       "<div>\n",
       "<style scoped>\n",
       "    .dataframe tbody tr th:only-of-type {\n",
       "        vertical-align: middle;\n",
       "    }\n",
       "\n",
       "    .dataframe tbody tr th {\n",
       "        vertical-align: top;\n",
       "    }\n",
       "\n",
       "    .dataframe thead th {\n",
       "        text-align: right;\n",
       "    }\n",
       "</style>\n",
       "<table border=\"1\" class=\"dataframe\">\n",
       "  <thead>\n",
       "    <tr style=\"text-align: right;\">\n",
       "      <th></th>\n",
       "      <th>STOCK_CODE</th>\n",
       "      <th>DATE</th>\n",
       "      <th>BLOOMBERG_CLOSE_PRICE</th>\n",
       "      <th>CUR_MKT_CAP</th>\n",
       "      <th>Daily Return</th>\n",
       "    </tr>\n",
       "  </thead>\n",
       "  <tbody>\n",
       "    <tr>\n",
       "      <th>1240</th>\n",
       "      <td>1353</td>\n",
       "      <td>2015-09-30</td>\n",
       "      <td>1.00</td>\n",
       "      <td>610.794</td>\n",
       "      <td></td>\n",
       "    </tr>\n",
       "    <tr>\n",
       "      <th>1239</th>\n",
       "      <td>1353</td>\n",
       "      <td>2015-10-01</td>\n",
       "      <td>1.00</td>\n",
       "      <td>610.794</td>\n",
       "      <td></td>\n",
       "    </tr>\n",
       "    <tr>\n",
       "      <th>1238</th>\n",
       "      <td>1353</td>\n",
       "      <td>2015-10-02</td>\n",
       "      <td>1.00</td>\n",
       "      <td>610.794</td>\n",
       "      <td></td>\n",
       "    </tr>\n",
       "    <tr>\n",
       "      <th>1237</th>\n",
       "      <td>1353</td>\n",
       "      <td>2015-10-05</td>\n",
       "      <td>1.00</td>\n",
       "      <td>610.794</td>\n",
       "      <td></td>\n",
       "    </tr>\n",
       "    <tr>\n",
       "      <th>1236</th>\n",
       "      <td>1353</td>\n",
       "      <td>2015-10-06</td>\n",
       "      <td>1.00</td>\n",
       "      <td>610.794</td>\n",
       "      <td></td>\n",
       "    </tr>\n",
       "    <tr>\n",
       "      <th>...</th>\n",
       "      <td>...</td>\n",
       "      <td>...</td>\n",
       "      <td>...</td>\n",
       "      <td>...</td>\n",
       "      <td>...</td>\n",
       "    </tr>\n",
       "    <tr>\n",
       "      <th>1024388</th>\n",
       "      <td>1542</td>\n",
       "      <td>2020-06-25</td>\n",
       "      <td>3.81</td>\n",
       "      <td>762.000</td>\n",
       "      <td></td>\n",
       "    </tr>\n",
       "    <tr>\n",
       "      <th>1024387</th>\n",
       "      <td>1542</td>\n",
       "      <td>2020-06-26</td>\n",
       "      <td>3.85</td>\n",
       "      <td>770.000</td>\n",
       "      <td></td>\n",
       "    </tr>\n",
       "    <tr>\n",
       "      <th>1024386</th>\n",
       "      <td>1542</td>\n",
       "      <td>2020-06-29</td>\n",
       "      <td>3.80</td>\n",
       "      <td>760.000</td>\n",
       "      <td></td>\n",
       "    </tr>\n",
       "    <tr>\n",
       "      <th>1024385</th>\n",
       "      <td>1542</td>\n",
       "      <td>2020-06-30</td>\n",
       "      <td>3.80</td>\n",
       "      <td>760.000</td>\n",
       "      <td></td>\n",
       "    </tr>\n",
       "    <tr>\n",
       "      <th>1024384</th>\n",
       "      <td>1542</td>\n",
       "      <td>2020-07-01</td>\n",
       "      <td>3.80</td>\n",
       "      <td>760.000</td>\n",
       "      <td></td>\n",
       "    </tr>\n",
       "  </tbody>\n",
       "</table>\n",
       "<p>370106 rows × 5 columns</p>\n",
       "</div>"
      ],
      "text/plain": [
       "         STOCK_CODE        DATE  BLOOMBERG_CLOSE_PRICE  CUR_MKT_CAP  \\\n",
       "1240           1353  2015-09-30                   1.00      610.794   \n",
       "1239           1353  2015-10-01                   1.00      610.794   \n",
       "1238           1353  2015-10-02                   1.00      610.794   \n",
       "1237           1353  2015-10-05                   1.00      610.794   \n",
       "1236           1353  2015-10-06                   1.00      610.794   \n",
       "...             ...         ...                    ...          ...   \n",
       "1024388        1542  2020-06-25                   3.81      762.000   \n",
       "1024387        1542  2020-06-26                   3.85      770.000   \n",
       "1024386        1542  2020-06-29                   3.80      760.000   \n",
       "1024385        1542  2020-06-30                   3.80      760.000   \n",
       "1024384        1542  2020-07-01                   3.80      760.000   \n",
       "\n",
       "        Daily Return  \n",
       "1240                  \n",
       "1239                  \n",
       "1238                  \n",
       "1237                  \n",
       "1236                  \n",
       "...              ...  \n",
       "1024388               \n",
       "1024387               \n",
       "1024386               \n",
       "1024385               \n",
       "1024384               \n",
       "\n",
       "[370106 rows x 5 columns]"
      ]
     },
     "execution_count": 12,
     "metadata": {},
     "output_type": "execute_result"
    }
   ],
   "source": [
    "df2"
   ]
  },
  {
   "cell_type": "code",
   "execution_count": 13,
   "metadata": {},
   "outputs": [
    {
     "data": {
      "text/plain": [
       "370105"
      ]
     },
     "execution_count": 13,
     "metadata": {},
     "output_type": "execute_result"
    }
   ],
   "source": [
    "range(len(df2))[-1]"
   ]
  },
  {
   "cell_type": "code",
   "execution_count": null,
   "metadata": {},
   "outputs": [],
   "source": [
    "for i in range(len(df2)):\n",
    "    if i == range(len(df2))[-1]:\n",
    "        break\n",
    "    if (df2[\"STOCK_CODE\"].iloc[i] == df2[\"STOCK_CODE\"].iloc[i+1]):\n",
    "        df2['Daily Return'] = (df2['BLOOMBERG_CLOSE_PRICE'] - df2['BLOOMBERG_CLOSE_PRICE'].shift(1))/(df2['BLOOMBERG_CLOSE_PRICE'].shift(1))\n",
    "    else:\n",
    "        i = i + 1"
   ]
  },
  {
   "cell_type": "code",
   "execution_count": null,
   "metadata": {},
   "outputs": [],
   "source": [
    "df2"
   ]
  },
  {
   "cell_type": "code",
   "execution_count": null,
   "metadata": {},
   "outputs": [],
   "source": [
    "df2['1 + Daily Return'] = df2['Daily Return'] + 1"
   ]
  },
  {
   "cell_type": "code",
   "execution_count": null,
   "metadata": {},
   "outputs": [],
   "source": [
    "df2 = df2.dropna()"
   ]
  },
  {
   "cell_type": "code",
   "execution_count": null,
   "metadata": {},
   "outputs": [],
   "source": [
    "df2"
   ]
  },
  {
   "cell_type": "code",
   "execution_count": null,
   "metadata": {},
   "outputs": [],
   "source": [
    "df2['Cumsum of 1+Daily Return'] = \"\""
   ]
  },
  {
   "cell_type": "code",
   "execution_count": null,
   "metadata": {},
   "outputs": [],
   "source": [
    "df2"
   ]
  },
  {
   "cell_type": "code",
   "execution_count": null,
   "metadata": {},
   "outputs": [],
   "source": [
    "df2 = df2.reset_index(drop=True)"
   ]
  },
  {
   "cell_type": "code",
   "execution_count": null,
   "metadata": {
    "scrolled": true
   },
   "outputs": [],
   "source": [
    "df2"
   ]
  },
  {
   "cell_type": "code",
   "execution_count": null,
   "metadata": {},
   "outputs": [],
   "source": [
    "list_for_return = []"
   ]
  },
  {
   "cell_type": "code",
   "execution_count": null,
   "metadata": {},
   "outputs": [],
   "source": [
    "temp_list1 = df2[df2['STOCK_CODE']==stock_code[10]]['1 + Daily Return'].cumprod()"
   ]
  },
  {
   "cell_type": "code",
   "execution_count": null,
   "metadata": {
    "scrolled": false
   },
   "outputs": [],
   "source": [
    "temp_list1"
   ]
  },
  {
   "cell_type": "code",
   "execution_count": null,
   "metadata": {},
   "outputs": [],
   "source": [
    "df2 = df2.drop(columns='Cumsum of 1+Daily Return')"
   ]
  },
  {
   "cell_type": "code",
   "execution_count": null,
   "metadata": {},
   "outputs": [],
   "source": [
    "new_stock_code = df2['STOCK_CODE'].unique()"
   ]
  },
  {
   "cell_type": "code",
   "execution_count": null,
   "metadata": {},
   "outputs": [],
   "source": [
    "df2"
   ]
  },
  {
   "cell_type": "code",
   "execution_count": null,
   "metadata": {
    "scrolled": false
   },
   "outputs": [],
   "source": [
    "df2[df2['STOCK_CODE'] == new_stock_code[0]]['1 + Daily Return'].cumprod().to_list()[756]"
   ]
  },
  {
   "cell_type": "code",
   "execution_count": null,
   "metadata": {},
   "outputs": [],
   "source": [
    "list_for_3yr_holding_period_return = []"
   ]
  },
  {
   "cell_type": "code",
   "execution_count": null,
   "metadata": {},
   "outputs": [],
   "source": [
    "for stock in new_stock_code:\n",
    "    if len(df2[df2['STOCK_CODE'] == stock]) < 756:\n",
    "        value = df2[df2['STOCK_CODE'] == stock]['1 + Daily Return'].cumprod().to_list()[-1]\n",
    "        list_for_3yr_holding_period_return.append(value)\n",
    "    else:\n",
    "        value = df2[df2['STOCK_CODE'] == stock]['1 + Daily Return'].cumprod().to_list()[756]\n",
    "        list_for_3yr_holding_period_return.append(value)    \n",
    "        "
   ]
  },
  {
   "cell_type": "code",
   "execution_count": null,
   "metadata": {},
   "outputs": [],
   "source": [
    "list_for_3yr_holding_period_return"
   ]
  },
  {
   "cell_type": "code",
   "execution_count": null,
   "metadata": {},
   "outputs": [],
   "source": [
    "len(new_stock_code)"
   ]
  },
  {
   "cell_type": "code",
   "execution_count": null,
   "metadata": {},
   "outputs": [],
   "source": [
    "len(list_for_3yr_holding_period_return)"
   ]
  },
  {
   "cell_type": "code",
   "execution_count": null,
   "metadata": {},
   "outputs": [],
   "source": [
    "finalized_df = pd.DataFrame()\n",
    "finalized_df['STOCK_CODE'] = new_stock_code\n",
    "finalized_df['3 yr holding period return'] = list_for_3yr_holding_period_return"
   ]
  },
  {
   "cell_type": "code",
   "execution_count": null,
   "metadata": {},
   "outputs": [],
   "source": [
    "finalized_df['3 yr holding period return'] = finalized_df['3 yr holding period return'] - 1"
   ]
  },
  {
   "cell_type": "code",
   "execution_count": null,
   "metadata": {},
   "outputs": [],
   "source": [
    "# Finalized dataframe\n",
    "finalized_df"
   ]
  },
  {
   "cell_type": "code",
   "execution_count": null,
   "metadata": {
    "scrolled": true
   },
   "outputs": [],
   "source": [
    "# Sorting from the lowest to the highest\n",
    "finalized_df.sort_values('3 yr holding period return')"
   ]
  },
  {
   "cell_type": "code",
   "execution_count": null,
   "metadata": {},
   "outputs": [],
   "source": [
    "finalized_df.describe()"
   ]
  },
  {
   "cell_type": "code",
   "execution_count": null,
   "metadata": {},
   "outputs": [],
   "source": [
    "finalized_df"
   ]
  },
  {
   "cell_type": "code",
   "execution_count": null,
   "metadata": {},
   "outputs": [],
   "source": []
  }
 ],
 "metadata": {
  "kernelspec": {
   "display_name": "Python 3",
   "language": "python",
   "name": "python3"
  },
  "language_info": {
   "codemirror_mode": {
    "name": "ipython",
    "version": 3
   },
   "file_extension": ".py",
   "mimetype": "text/x-python",
   "name": "python",
   "nbconvert_exporter": "python",
   "pygments_lexer": "ipython3",
   "version": "3.7.6"
  }
 },
 "nbformat": 4,
 "nbformat_minor": 4
}
